{
 "cells": [
  {
   "cell_type": "code",
   "execution_count": 2,
   "metadata": {},
   "outputs": [
    {
     "name": "stdout",
     "output_type": "stream",
     "text": [
      "Enter the original string: Hello World\n",
      "Enter the substring to be replaced: World\n",
      "Enter the string to be used: Python\n",
      "Hello Python\n"
     ]
    }
   ],
   "source": [
    "#DAY14\n",
    "original_string=input(\"Enter the original string: \")\n",
    "\n",
    "substring=input(\"Enter the substring to be replaced: \")\n",
    "\n",
    "new_string=input(\"Enter the string to be used: \")\n",
    "\n",
    "print(original_string.replace(substring,new_string))"
   ]
  },
  {
   "cell_type": "code",
   "execution_count": null,
   "metadata": {},
   "outputs": [],
   "source": []
  }
 ],
 "metadata": {
  "kernelspec": {
   "display_name": "Python 3",
   "language": "python",
   "name": "python3"
  },
  "language_info": {
   "codemirror_mode": {
    "name": "ipython",
    "version": 3
   },
   "file_extension": ".py",
   "mimetype": "text/x-python",
   "name": "python",
   "nbconvert_exporter": "python",
   "pygments_lexer": "ipython3",
   "version": "3.7.6"
  }
 },
 "nbformat": 4,
 "nbformat_minor": 4
}
