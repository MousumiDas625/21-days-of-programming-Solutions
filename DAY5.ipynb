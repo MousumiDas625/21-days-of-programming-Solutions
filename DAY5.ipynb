{
 "cells": [
  {
   "cell_type": "code",
   "execution_count": 7,
   "metadata": {},
   "outputs": [
    {
     "name": "stdout",
     "output_type": "stream",
     "text": [
      "enter a binary string 01000101 01001011 01000001\n",
      " EKA\n"
     ]
    }
   ],
   "source": [
    "#Taking input\n",
    "binary_string=input(\"enter a binary string \")\n",
    "\n",
    "#spliting to obtain a list\n",
    "binary_values=binary_string.split()\n",
    "\n",
    "string_ascii=\" \"\n",
    "for binary_value in binary_values:\n",
    "    decimal=int(binary_value, 2)   #converting to base 2 decimal integer  \n",
    "    \n",
    "    ascii_character=chr(decimal)   #converting to character\n",
    "    \n",
    "    string_ascii+=ascii_character  #adding characters to ASCII string\n",
    "\n",
    "print(string_ascii)    \n",
    "\n",
    "#EASTER EGG\n",
    "#USING THE ABOVE PROGRAM THE ASCII STRING OBTAINED FROM THE POSTER:\n",
    "#EUR (01000101 01010101 01010010)\n",
    "#EKA (01000101 01001011 01000001 )\n",
    "       "
   ]
  },
  {
   "cell_type": "code",
   "execution_count": null,
   "metadata": {},
   "outputs": [],
   "source": []
  }
 ],
 "metadata": {
  "kernelspec": {
   "display_name": "Python 3",
   "language": "python",
   "name": "python3"
  },
  "language_info": {
   "codemirror_mode": {
    "name": "ipython",
    "version": 3
   },
   "file_extension": ".py",
   "mimetype": "text/x-python",
   "name": "python",
   "nbconvert_exporter": "python",
   "pygments_lexer": "ipython3",
   "version": "3.7.6"
  }
 },
 "nbformat": 4,
 "nbformat_minor": 4
}
