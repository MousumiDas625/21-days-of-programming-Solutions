{
 "cells": [
  {
   "cell_type": "code",
   "execution_count": 5,
   "metadata": {},
   "outputs": [
    {
     "name": "stdout",
     "output_type": "stream",
     "text": [
      "enter a: 1\n",
      "enter b: 2\n",
      "enterc: 2\n",
      "-4.0\n",
      "(-1+1j) (-1-1j)\n"
     ]
    }
   ],
   "source": [
    "import math\n",
    "\n",
    "#Taking coefficients froom the user\n",
    "a=float(input('enter a: '))\n",
    "b=float(input('enter b: '))\n",
    "c=float(input('enterc: '))\n",
    "\n",
    "#calculating the delta value\n",
    "d=(b*b)-(4*a*c)\n",
    "print(d)\n",
    "\n",
    "#case1\n",
    "if d>0:\n",
    "    root1=(-b + math.sqrt(d)) / (2*a)\n",
    "    root2=(-b - math.sqrt(d)) / (2*a)\n",
    "    print(root1 , root2)\n",
    "    \n",
    "#case2\n",
    "if d==0:\n",
    "    root1=root2=(-b)/(2*a)\n",
    "    print(root1 ,root2)\n",
    "    \n",
    "#case3\n",
    "if d<0:\n",
    "    real=(-b)/(2*a)\n",
    "    imaginary=math.sqrt(-d)/(2*a)\n",
    "    root1=complex(real,imaginary)\n",
    "    root2=complex(real,-imaginary)\n",
    "    print(root1,root2)"
   ]
  },
  {
   "cell_type": "code",
   "execution_count": null,
   "metadata": {},
   "outputs": [],
   "source": []
  }
 ],
 "metadata": {
  "kernelspec": {
   "display_name": "Python 3",
   "language": "python",
   "name": "python3"
  },
  "language_info": {
   "codemirror_mode": {
    "name": "ipython",
    "version": 3
   },
   "file_extension": ".py",
   "mimetype": "text/x-python",
   "name": "python",
   "nbconvert_exporter": "python",
   "pygments_lexer": "ipython3",
   "version": "3.7.6"
  }
 },
 "nbformat": 4,
 "nbformat_minor": 4
}
