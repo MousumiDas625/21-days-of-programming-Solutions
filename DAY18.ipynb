{
 "cells": [
  {
   "cell_type": "code",
   "execution_count": null,
   "metadata": {},
   "outputs": [
    {
     "name": "stdout",
     "output_type": "stream",
     "text": [
      "Enter the number of cases: 2\n"
     ]
    }
   ],
   "source": [
    "n=int(input(\"Enter the number of cases: \"))   \n",
    "\n",
    "for x in range(0,n):\n",
    "    a=int(input(\"Enter the dividend: \"))\n",
    "    b=int(input(\"Enter the divisor: \"))\n",
    "    no_of_steps=0\n",
    "\n",
    "    if(a%b==0):                             #\n",
    "        no_of_steps=0 \n",
    "    else:\n",
    "        q,mod=divmod(a,b)\n",
    "        i=(q+1)*b\n",
    "        mod1=i-a\n",
    "        if(mod1>mod):\n",
    "            for i in range(0,mod):\n",
    "                no_of_steps+=1\n",
    "        elif(mod1<mod):\n",
    "            for i in range(0,mod1):\n",
    "                no_of_steps+=1\n",
    "        elif(mod1==mod):\n",
    "            for i in range(0,mod):\n",
    "                no_of_steps+=1\n",
    "    print(\"the minimum number of steps: \")\n",
    "    print(no_of_steps)"
   ]
  },
  {
   "cell_type": "code",
   "execution_count": null,
   "metadata": {},
   "outputs": [],
   "source": []
  },
  {
   "cell_type": "code",
   "execution_count": null,
   "metadata": {},
   "outputs": [],
   "source": []
  }
 ],
 "metadata": {
  "kernelspec": {
   "display_name": "Python 3",
   "language": "python",
   "name": "python3"
  },
  "language_info": {
   "codemirror_mode": {
    "name": "ipython",
    "version": 3
   },
   "file_extension": ".py",
   "mimetype": "text/x-python",
   "name": "python",
   "nbconvert_exporter": "python",
   "pygments_lexer": "ipython3",
   "version": "3.7.6"
  }
 },
 "nbformat": 4,
 "nbformat_minor": 4
}
