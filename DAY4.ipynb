{
 "cells": [
  {
   "cell_type": "code",
   "execution_count": 6,
   "metadata": {},
   "outputs": [
    {
     "name": "stdout",
     "output_type": "stream",
     "text": [
      "enter the starting number: 20\n",
      "enter the ending number: 50\n",
      "23 29 31 37 41 43 47 "
     ]
    }
   ],
   "source": [
    "#defining the function\n",
    "def prime_numbers():\n",
    "    num=0\n",
    "    i=0\n",
    "    for num in range(a+1,b):\n",
    "        temp=1\n",
    "        for i in range(2,num):\n",
    "            if(num%i==0):\n",
    "                temp=0     \n",
    "                break\n",
    "        if (temp==1):\n",
    "            print(num,end=\" \")\n",
    "\n",
    "#taking inputs\n",
    "a=int(input(\"enter the starting number: \"))\n",
    "b=int(input(\"enter the ending number: \"))\n",
    "\n",
    "#calling the function\n",
    "prime_numbers()\n",
    "            "
   ]
  },
  {
   "cell_type": "code",
   "execution_count": null,
   "metadata": {},
   "outputs": [],
   "source": []
  },
  {
   "cell_type": "code",
   "execution_count": null,
   "metadata": {},
   "outputs": [],
   "source": []
  }
 ],
 "metadata": {
  "kernelspec": {
   "display_name": "Python 3",
   "language": "python",
   "name": "python3"
  },
  "language_info": {
   "codemirror_mode": {
    "name": "ipython",
    "version": 3
   },
   "file_extension": ".py",
   "mimetype": "text/x-python",
   "name": "python",
   "nbconvert_exporter": "python",
   "pygments_lexer": "ipython3",
   "version": "3.7.6"
  }
 },
 "nbformat": 4,
 "nbformat_minor": 4
}
