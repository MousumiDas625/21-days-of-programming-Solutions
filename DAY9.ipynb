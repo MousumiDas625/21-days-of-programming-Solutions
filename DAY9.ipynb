{
 "cells": [
  {
   "cell_type": "code",
   "execution_count": 3,
   "metadata": {},
   "outputs": [
    {
     "name": "stdout",
     "output_type": "stream",
     "text": [
      "Enter the number 30\n",
      "24\n"
     ]
    }
   ],
   "source": [
    "#defining the function\n",
    "def sumofoddfactors(n):\n",
    "    sum=0\n",
    "    for i in range(1,n+1):\n",
    "        if(n%i==0 and (i%2)!=0):\n",
    "            sum=sum+i\n",
    "    return sum \n",
    "\n",
    "#Taking input\n",
    "n=int(input(\"Enter the number \"))\n",
    "\n",
    "#calling the function\n",
    "result=sumofoddfactors(n)\n",
    "print(result)"
   ]
  },
  {
   "cell_type": "code",
   "execution_count": null,
   "metadata": {},
   "outputs": [],
   "source": []
  }
 ],
 "metadata": {
  "kernelspec": {
   "display_name": "Python 3",
   "language": "python",
   "name": "python3"
  },
  "language_info": {
   "codemirror_mode": {
    "name": "ipython",
    "version": 3
   },
   "file_extension": ".py",
   "mimetype": "text/x-python",
   "name": "python",
   "nbconvert_exporter": "python",
   "pygments_lexer": "ipython3",
   "version": "3.7.6"
  }
 },
 "nbformat": 4,
 "nbformat_minor": 4
}
