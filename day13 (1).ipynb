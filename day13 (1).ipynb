{
 "cells": [
  {
   "cell_type": "code",
   "execution_count": 1,
   "metadata": {},
   "outputs": [
    {
     "name": "stdout",
     "output_type": "stream",
     "text": [
      "enter the number 51\n",
      "17\n"
     ]
    }
   ],
   "source": [
    "#defining the function\n",
    "def largestprimefactor(n):\n",
    "    prime_factor=0\n",
    "    temp=2\n",
    "    while temp<=n/temp:\n",
    "        if(n%temp)==0:\n",
    "            prime_factor=temp\n",
    "            n/=temp\n",
    "        else:\n",
    "            temp+=1\n",
    "    if prime_factor<n:\n",
    "        prime_factor=int(n)\n",
    "    return prime_factor\n",
    "\n",
    "\n",
    "#calling the function\n",
    "n=int(input(\"enter the number \"))\n",
    "result=largestprimefactor(int(n))\n",
    "print(result)\n"
   ]
  },
  {
   "cell_type": "code",
   "execution_count": null,
   "metadata": {},
   "outputs": [],
   "source": []
  }
 ],
 "metadata": {
  "kernelspec": {
   "display_name": "Python 3",
   "language": "python",
   "name": "python3"
  },
  "language_info": {
   "codemirror_mode": {
    "name": "ipython",
    "version": 3
   },
   "file_extension": ".py",
   "mimetype": "text/x-python",
   "name": "python",
   "nbconvert_exporter": "python",
   "pygments_lexer": "ipython3",
   "version": "3.7.6"
  }
 },
 "nbformat": 4,
 "nbformat_minor": 4
}
