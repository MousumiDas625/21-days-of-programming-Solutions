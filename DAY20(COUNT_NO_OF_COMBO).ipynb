{
 "cells": [
  {
   "cell_type": "code",
   "execution_count": 1,
   "metadata": {},
   "outputs": [
    {
     "name": "stdout",
     "output_type": "stream",
     "text": [
      "Enter the length of array: 5\n",
      "enter the elements: 1 3 2 8 4\n",
      "Enter the sum: 7\n",
      "12\n"
     ]
    }
   ],
   "source": [
    "from itertools import combinations\n",
    "length=int(input(\"Enter the length of array: \"))\n",
    "list=input(\"enter the elements: \").split()\n",
    "x=int(input(\"Enter the sum: \"))\n",
    "count=0\n",
    "\n",
    "for i in range(1,length+1):\n",
    "    for j in combinations(list,i):\n",
    "        sum=0\n",
    "        for k in range(len(j)):\n",
    "            sum+=int(j[k])\n",
    "        if sum<=x:\n",
    "            count+=1\n",
    "\n",
    "if count>0:\n",
    "    print(count)\n",
    "else:\n",
    "    print(-1)\n",
    "    \n",
    "   \n",
    "    \n",
    "\n",
    "\n",
    "\n"
   ]
  },
  {
   "cell_type": "code",
   "execution_count": null,
   "metadata": {},
   "outputs": [],
   "source": []
  },
  {
   "cell_type": "code",
   "execution_count": null,
   "metadata": {},
   "outputs": [],
   "source": []
  }
 ],
 "metadata": {
  "kernelspec": {
   "display_name": "Python 3",
   "language": "python",
   "name": "python3"
  },
  "language_info": {
   "codemirror_mode": {
    "name": "ipython",
    "version": 3
   },
   "file_extension": ".py",
   "mimetype": "text/x-python",
   "name": "python",
   "nbconvert_exporter": "python",
   "pygments_lexer": "ipython3",
   "version": "3.7.6"
  }
 },
 "nbformat": 4,
 "nbformat_minor": 4
}
