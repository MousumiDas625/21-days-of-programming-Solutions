{
 "cells": [
  {
   "cell_type": "code",
   "execution_count": 6,
   "metadata": {},
   "outputs": [
    {
     "name": "stdout",
     "output_type": "stream",
     "text": [
      "Enter the integer 123321\n",
      "the frequency of 0 is 0\n",
      "the frequency of 1 is 2\n",
      "the frequency of 2 is 2\n",
      "the frequency of 3 is 2\n",
      "the frequency of 4 is 0\n",
      "the frequency of 5 is 0\n",
      "the frequency of 6 is 0\n",
      "the frequency of 7 is 0\n",
      "the frequency of 8 is 0\n",
      "the frequency of 9 is 0\n"
     ]
    }
   ],
   "source": [
    "def frequency(num,temp):\n",
    "    temp=0\n",
    "    while(num>0):\n",
    "        if(num % 10 == i):\n",
    "            temp+=1\n",
    "        num=int(num/10)\n",
    "    print(\"the frequency of \" + str(i)+\" is \"+str(temp))\n",
    "    \n",
    "num=int(input(\"Enter the integer \"))\n",
    "for i in range (0,10):\n",
    "    frequency(num,i)"
   ]
  },
  {
   "cell_type": "code",
   "execution_count": null,
   "metadata": {},
   "outputs": [],
   "source": []
  }
 ],
 "metadata": {
  "kernelspec": {
   "display_name": "Python 3",
   "language": "python",
   "name": "python3"
  },
  "language_info": {
   "codemirror_mode": {
    "name": "ipython",
    "version": 3
   },
   "file_extension": ".py",
   "mimetype": "text/x-python",
   "name": "python",
   "nbconvert_exporter": "python",
   "pygments_lexer": "ipython3",
   "version": "3.7.6"
  }
 },
 "nbformat": 4,
 "nbformat_minor": 4
}
