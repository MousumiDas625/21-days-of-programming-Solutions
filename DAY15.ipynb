{
 "cells": [
  {
   "cell_type": "code",
   "execution_count": 7,
   "metadata": {},
   "outputs": [
    {
     "name": "stdout",
     "output_type": "stream",
     "text": [
      "Enter the message: Idmkp Vpqmc\n",
      "Hello World"
     ]
    }
   ],
   "source": [
    "#Taking input from the user \n",
    "string=input(\"Enter the message: \")\n",
    "temp=0\n",
    "\n",
    "\n",
    "for i in string:\n",
    "    \n",
    "    #inner loop1\n",
    "    if i==\" \":\n",
    "        x=chr(ord(i))\n",
    "        print(x,end=\"\")\n",
    "    \n",
    "    #inner loop2\n",
    "    elif temp%2==0:\n",
    "        x=chr(ord(i)-1)\n",
    "        print(x,end=\"\")\n",
    "        temp=temp+1\n",
    "        \n",
    "   #inner loop3\n",
    "    elif (temp%2)!=0:\n",
    "        x=chr(ord(i)+1)\n",
    "        print(x,end=\"\")\n",
    "        temp=temp+1\n",
    "        \n",
    "        \n",
    "#EASTER EGG\n",
    "#EDDKBQF-DECLARE\n",
    "#W@SHBAMDT-VARIABLES\n",
    "#ONU-NOT\n",
    "#X@S-WAR"
   ]
  },
  {
   "cell_type": "code",
   "execution_count": null,
   "metadata": {},
   "outputs": [],
   "source": []
  }
 ],
 "metadata": {
  "kernelspec": {
   "display_name": "Python 3",
   "language": "python",
   "name": "python3"
  },
  "language_info": {
   "codemirror_mode": {
    "name": "ipython",
    "version": 3
   },
   "file_extension": ".py",
   "mimetype": "text/x-python",
   "name": "python",
   "nbconvert_exporter": "python",
   "pygments_lexer": "ipython3",
   "version": "3.7.6"
  }
 },
 "nbformat": 4,
 "nbformat_minor": 4
}
