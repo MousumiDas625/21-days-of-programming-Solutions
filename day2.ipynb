{
 "cells": [
  {
   "cell_type": "code",
   "execution_count": 3,
   "metadata": {},
   "outputs": [
    {
     "name": "stdout",
     "output_type": "stream",
     "text": [
      "enter the number of rows:6\n",
      "          A \n",
      "        A B A \n",
      "      A B C B A \n",
      "    A B C D C B A \n",
      "  A B C D E D C B A \n",
      "A B C D E F E D C B A \n"
     ]
    }
   ],
   "source": [
    "#Taking the number of rows as input\n",
    "s=int(input('enter the number of rows:'))\n",
    "#outer loop\n",
    "for x in range(0,s):\n",
    "    #inner loop(1)\n",
    "    for y in range(s-1,x,-1):\n",
    "        print(\" \",end=\" \")\n",
    "    #inner loop(2)\n",
    "    for z in range(x,-(x+1),-1):\n",
    "        print(chr(x-abs(z)+65),end=\" \")\n",
    "    print()    "
   ]
  },
  {
   "cell_type": "code",
   "execution_count": null,
   "metadata": {},
   "outputs": [],
   "source": []
  },
  {
   "cell_type": "code",
   "execution_count": null,
   "metadata": {},
   "outputs": [],
   "source": []
  }
 ],
 "metadata": {
  "kernelspec": {
   "display_name": "Python 3",
   "language": "python",
   "name": "python3"
  },
  "language_info": {
   "codemirror_mode": {
    "name": "ipython",
    "version": 3
   },
   "file_extension": ".py",
   "mimetype": "text/x-python",
   "name": "python",
   "nbconvert_exporter": "python",
   "pygments_lexer": "ipython3",
   "version": "3.7.6"
  }
 },
 "nbformat": 4,
 "nbformat_minor": 4
}
