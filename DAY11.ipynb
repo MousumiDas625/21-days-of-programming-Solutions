{
 "cells": [
  {
   "cell_type": "code",
   "execution_count": 3,
   "metadata": {},
   "outputs": [
    {
     "name": "stdout",
     "output_type": "stream",
     "text": [
      "Enter the time in 12hour format 12:45:35 AM\n",
      "00:45:35 \n"
     ]
    }
   ],
   "source": [
    "#Taking input\n",
    "Time=input(\"Enter the time in 12hour format \")\n",
    "\n",
    "#When the time is in AM and the first two elements are 12\n",
    "if(Time[-2: ]==\"AM\" and Time[ :2]==\"12\"):\n",
    "    print(\"00\" +Time[2:-2])\n",
    "#When the time is in AM and it is past 12\n",
    "elif(Time[-2: ]==\"AM\"):\n",
    "    print(Time[ :-2])\n",
    "    \n",
    "#When time is in PM \n",
    "if(Time[-2: ]==\"PM\"):\n",
    "    print(str(int(Time[ :2])+12) + Time[2:-2])"
   ]
  },
  {
   "cell_type": "code",
   "execution_count": null,
   "metadata": {},
   "outputs": [],
   "source": []
  }
 ],
 "metadata": {
  "kernelspec": {
   "display_name": "Python 3",
   "language": "python",
   "name": "python3"
  },
  "language_info": {
   "codemirror_mode": {
    "name": "ipython",
    "version": 3
   },
   "file_extension": ".py",
   "mimetype": "text/x-python",
   "name": "python",
   "nbconvert_exporter": "python",
   "pygments_lexer": "ipython3",
   "version": "3.7.6"
  }
 },
 "nbformat": 4,
 "nbformat_minor": 4
}
