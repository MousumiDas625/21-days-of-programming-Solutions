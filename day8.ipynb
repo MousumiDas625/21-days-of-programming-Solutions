{
 "cells": [
  {
   "cell_type": "code",
   "execution_count": 1,
   "metadata": {},
   "outputs": [
    {
     "name": "stdout",
     "output_type": "stream",
     "text": [
      "enter the length  5\n",
      "23 34 56 70 33\n",
      "56\n"
     ]
    }
   ],
   "source": [
    "import numpy\n",
    "\n",
    "#creating list\n",
    "length=int(input(\"enter the length  \"))\n",
    "scores=map(int,input().split())\n",
    "scores=list(set(list(scores)))\n",
    "\n",
    "#sorting the list using sorted function\n",
    "arr=sorted(scores)\n",
    "\n",
    "#converting the list to an array\n",
    "array=numpy.array(arr)\n",
    "\n",
    "#printing the runnerupscore\n",
    "print(array[length-2])"
   ]
  },
  {
   "cell_type": "code",
   "execution_count": null,
   "metadata": {},
   "outputs": [],
   "source": []
  }
 ],
 "metadata": {
  "kernelspec": {
   "display_name": "Python 3",
   "language": "python",
   "name": "python3"
  },
  "language_info": {
   "codemirror_mode": {
    "name": "ipython",
    "version": 3
   },
   "file_extension": ".py",
   "mimetype": "text/x-python",
   "name": "python",
   "nbconvert_exporter": "python",
   "pygments_lexer": "ipython3",
   "version": "3.7.6"
  }
 },
 "nbformat": 4,
 "nbformat_minor": 4
}
