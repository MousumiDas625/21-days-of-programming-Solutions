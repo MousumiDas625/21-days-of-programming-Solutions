{
 "cells": [
  {
   "cell_type": "code",
   "execution_count": 5,
   "metadata": {},
   "outputs": [
    {
     "name": "stdout",
     "output_type": "stream",
     "text": [
      "Enter the number of terms: 5\n",
      "Enter the starting number: 4\n",
      "Enter the second number: 5\n",
      "Fibonacci series: \n",
      "4\n",
      "5\n",
      "9\n",
      "14\n",
      "23\n"
     ]
    }
   ],
   "source": [
    "def fibo(a,b,n):                              #FUNCTION DEFINITION\n",
    "    if(n>0):\n",
    "        c=a+b\n",
    "        print(c)\n",
    "        fibo(b,a+b,n-1)                        #USING RECURSION\n",
    "        \n",
    "#TAKING INPUTS       \n",
    "n=int(input(\"Enter the number of terms: \"))        \n",
    "a=int(input(\"Enter the starting number: \"))\n",
    "b=int(input(\"Enter the second number: \"))\n",
    "if n<=0:\n",
    "    print(\"Enter a positive number\")\n",
    "else:\n",
    "    print(\"Fibonacci series: \")\n",
    "    print(a)\n",
    "    print(b)\n",
    "    fibo(a,b,n-2)                              #FUNCTION CALL"
   ]
  },
  {
   "cell_type": "code",
   "execution_count": null,
   "metadata": {},
   "outputs": [],
   "source": []
  }
 ],
 "metadata": {
  "kernelspec": {
   "display_name": "Python 3",
   "language": "python",
   "name": "python3"
  },
  "language_info": {
   "codemirror_mode": {
    "name": "ipython",
    "version": 3
   },
   "file_extension": ".py",
   "mimetype": "text/x-python",
   "name": "python",
   "nbconvert_exporter": "python",
   "pygments_lexer": "ipython3",
   "version": "3.7.6"
  }
 },
 "nbformat": 4,
 "nbformat_minor": 4
}
