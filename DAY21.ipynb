{
 "cells": [
  {
   "cell_type": "code",
   "execution_count": 2,
   "metadata": {},
   "outputs": [
    {
     "name": "stdout",
     "output_type": "stream",
     "text": [
      "Enter the size of beaker A: 4\n",
      "Enter the size of beaker B: 9\n",
      "Enter the quantity to be collected: 6\n",
      "0 0\n",
      "0 9\n",
      "4 5\n",
      "0 5\n",
      "4 1\n",
      "0 1\n",
      "1 9\n",
      "4 6\n",
      "0 6\n"
     ]
    }
   ],
   "source": [
    "A=int(input(\"Enter the size of beaker A: \"))\n",
    "B=int(input(\"Enter the size of beaker B: \"))\n",
    "f=int(input(\"Enter the quantity to be collected: \"))\n",
    "a=0\n",
    "b=0\n",
    "\n",
    "print(a,b)\n",
    "while(b!=f):\n",
    "    \n",
    "    if(b>a and b>A):\n",
    "        if(a==0):\n",
    "            b=b-A\n",
    "        else:\n",
    "            b=(b-(A-a))\n",
    "        a=A\n",
    "        print(a,b)\n",
    "        a=0\n",
    "        print(a,b)\n",
    "        if(b==f):\n",
    "            break\n",
    "            \n",
    "    elif(b>a and b<A):\n",
    "        a=b\n",
    "        b=B\n",
    "        print(a,b)\n",
    "        \n",
    "            \n",
    "    elif(b<=a and b<=A):\n",
    "        b=B\n",
    "        print(a,b)\n",
    "        if(a==0):\n",
    "            b=b-A\n",
    "        else:\n",
    "            b=b-(A-a)\n",
    "        a=A\n",
    "        print(a,b)\n",
    "        a=0\n",
    "        print(a,b)\n",
    "        if(b==f):\n",
    "            break"
   ]
  },
  {
   "cell_type": "code",
   "execution_count": null,
   "metadata": {},
   "outputs": [],
   "source": []
  }
 ],
 "metadata": {
  "kernelspec": {
   "display_name": "Python 3",
   "language": "python",
   "name": "python3"
  },
  "language_info": {
   "codemirror_mode": {
    "name": "ipython",
    "version": 3
   },
   "file_extension": ".py",
   "mimetype": "text/x-python",
   "name": "python",
   "nbconvert_exporter": "python",
   "pygments_lexer": "ipython3",
   "version": "3.7.6"
  }
 },
 "nbformat": 4,
 "nbformat_minor": 4
}
