{
 "cells": [
  {
   "cell_type": "code",
   "execution_count": 6,
   "metadata": {},
   "outputs": [
    {
     "name": "stdout",
     "output_type": "stream",
     "text": [
      "Enter the starting element of a series 3\n",
      "Enter the number of elements of the series 5\n",
      "Enter the common ratio 2\n",
      "3.0 6.0 12.0 24.0 48.0 \n",
      "93.0\n"
     ]
    }
   ],
   "source": [
    "import math\n",
    "\n",
    "#TAKING INPUTS\n",
    "a=int(input(\"Enter the starting element of a series \"))\n",
    "n=int(input(\"Enter the number of elements of the series \"))\n",
    "r=int(input(\"Enter the common ratio \"))\n",
    "\n",
    "#PRINTING THE ELEMENTS OF THE SERIES\n",
    "for i in range(0,n):\n",
    "      element=a * math.pow(r,i)\n",
    "      print(element,end=\" \")\n",
    "      \n",
    "#FINDING THE SUM OF ELEMENTS OF THE GP SERIES\n",
    "sum=(a * (1 - math.pow(r,n))) / (1-r)\n",
    "print()\n",
    "print(sum)"
   ]
  },
  {
   "cell_type": "code",
   "execution_count": null,
   "metadata": {},
   "outputs": [],
   "source": []
  },
  {
   "cell_type": "code",
   "execution_count": null,
   "metadata": {},
   "outputs": [],
   "source": []
  }
 ],
 "metadata": {
  "kernelspec": {
   "display_name": "Python 3",
   "language": "python",
   "name": "python3"
  },
  "language_info": {
   "codemirror_mode": {
    "name": "ipython",
    "version": 3
   },
   "file_extension": ".py",
   "mimetype": "text/x-python",
   "name": "python",
   "nbconvert_exporter": "python",
   "pygments_lexer": "ipython3",
   "version": "3.7.6"
  }
 },
 "nbformat": 4,
 "nbformat_minor": 4
}
