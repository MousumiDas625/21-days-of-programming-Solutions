{
 "cells": [
  {
   "cell_type": "code",
   "execution_count": 4,
   "metadata": {},
   "outputs": [
    {
     "name": "stdout",
     "output_type": "stream",
     "text": [
      "Enter the starting number of the range 16\n",
      "Enter the ending number of the range 25\n",
      "Enter the number of iterations 10\n",
      "0.1\n"
     ]
    }
   ],
   "source": [
    "def probability(a,b,n):\n",
    "    count=0\n",
    "    for i in range(1,n+1):\n",
    "        num=random.randint(a,b+1)\n",
    "        s=math.sqrt(num)\n",
    "        x=s-math.floor(s)\n",
    "        if x==0:\n",
    "            count+=1\n",
    "    probability=count/n\n",
    "    return probability\n",
    "\n",
    "\n",
    "import math\n",
    "import random\n",
    "a=int(input(\"Enter the starting number of the range \"))\n",
    "b=int(input(\"Enter the ending number of the range \"))\n",
    "n=int(input(\"Enter the number of iterations \"))\n",
    "print(probability(a,b,n))"
   ]
  },
  {
   "cell_type": "code",
   "execution_count": null,
   "metadata": {},
   "outputs": [],
   "source": []
  }
 ],
 "metadata": {
  "kernelspec": {
   "display_name": "Python 3",
   "language": "python",
   "name": "python3"
  },
  "language_info": {
   "codemirror_mode": {
    "name": "ipython",
    "version": 3
   },
   "file_extension": ".py",
   "mimetype": "text/x-python",
   "name": "python",
   "nbconvert_exporter": "python",
   "pygments_lexer": "ipython3",
   "version": "3.7.6"
  }
 },
 "nbformat": 4,
 "nbformat_minor": 4
}
