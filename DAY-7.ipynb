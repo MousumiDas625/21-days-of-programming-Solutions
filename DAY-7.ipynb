{
 "cells": [
  {
   "cell_type": "code",
   "execution_count": 6,
   "metadata": {},
   "outputs": [
    {
     "name": "stdout",
     "output_type": "stream",
     "text": [
      "Enter a string ABCDCBA\n",
      "It is pallindrome\n"
     ]
    }
   ],
   "source": [
    "#TAKING THE STRING AS INPUT\n",
    "original_string=str(input(\"Enter a string \"))\n",
    "\n",
    "#REVERSING THE STRING\n",
    "reverse_string=original_string[::-1]\n",
    "\n",
    "#CHECKING IF IT IS PALLINDROME OR NOT\n",
    "if(original_string==reverse_string):\n",
    "    print(\"It is pallindrome\")\n",
    "else:\n",
    "    print(\"It is not pallindrome\")"
   ]
  },
  {
   "cell_type": "code",
   "execution_count": null,
   "metadata": {},
   "outputs": [],
   "source": []
  },
  {
   "cell_type": "code",
   "execution_count": null,
   "metadata": {},
   "outputs": [],
   "source": []
  }
 ],
 "metadata": {
  "kernelspec": {
   "display_name": "Python 3",
   "language": "python",
   "name": "python3"
  },
  "language_info": {
   "codemirror_mode": {
    "name": "ipython",
    "version": 3
   },
   "file_extension": ".py",
   "mimetype": "text/x-python",
   "name": "python",
   "nbconvert_exporter": "python",
   "pygments_lexer": "ipython3",
   "version": "3.7.6"
  }
 },
 "nbformat": 4,
 "nbformat_minor": 4
}
