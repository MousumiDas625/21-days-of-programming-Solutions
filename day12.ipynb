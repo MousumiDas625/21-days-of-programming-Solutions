{
 "cells": [
  {
   "cell_type": "code",
   "execution_count": 23,
   "metadata": {},
   "outputs": [
    {
     "name": "stdout",
     "output_type": "stream",
     "text": [
      "Enter the number 1212112\n",
      "YES\n"
     ]
    }
   ],
   "source": [
    "#DAY12\n",
    "#taking inputs\n",
    "n=input(\"Enter the number \")\n",
    "length=len(n)\n",
    "sum_even=0\n",
    "sum_odd=0\n",
    "\n",
    "#finding the sum at even and odd positions\n",
    "for i in range(length):\n",
    "    if i%2==0:\n",
    "        sum_even+=int(n[i])\n",
    "    elif (i%2)!=0:\n",
    "        sum_odd+=int(n[i])\n",
    "\n",
    "\n",
    "#finding the difference between sum of digits at even and odd positions\n",
    "diff=sum_even-sum_odd\n",
    "\n",
    "#condition\n",
    "if (diff==0) :\n",
    "    print(\"YES\")\n",
    "else:\n",
    "    print(\"NO\")"
   ]
  },
  {
   "cell_type": "code",
   "execution_count": null,
   "metadata": {},
   "outputs": [],
   "source": []
  }
 ],
 "metadata": {
  "kernelspec": {
   "display_name": "Python 3",
   "language": "python",
   "name": "python3"
  },
  "language_info": {
   "codemirror_mode": {
    "name": "ipython",
    "version": 3
   },
   "file_extension": ".py",
   "mimetype": "text/x-python",
   "name": "python",
   "nbconvert_exporter": "python",
   "pygments_lexer": "ipython3",
   "version": "3.7.6"
  }
 },
 "nbformat": 4,
 "nbformat_minor": 4
}
